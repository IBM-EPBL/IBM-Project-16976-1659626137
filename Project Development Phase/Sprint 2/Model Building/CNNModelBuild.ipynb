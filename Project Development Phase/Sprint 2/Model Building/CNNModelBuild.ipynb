{
 "cells": [
  {
   "cell_type": "code",
   "execution_count": 1,
   "metadata": {},
   "outputs": [],
   "source": [
    "from tensorflow.keras.models import Sequential\n",
    "from tensorflow.keras.layers import Conv2D, Flatten, Dense, MaxPooling2D\n",
    "from tensorflow.keras.preprocessing.image import ImageDataGenerator"
   ]
  },
  {
   "cell_type": "code",
   "execution_count": 29,
   "metadata": {},
   "outputs": [
    {
     "name": "stdout",
     "output_type": "stream",
     "text": [
      "Found 15750 images belonging to 9 classes.\n",
      "Found 2250 images belonging to 9 classes.\n"
     ]
    }
   ],
   "source": [
    "train_setGen = ImageDataGenerator(rescale=1./255, zoom_range=0.2, horizontal_flip=True)\n",
    "train_set = train_setGen.flow_from_directory('C:\\IBMProject\\ProjectDevelopmentPhase\\Sprint2\\Dataset\\TrainingSet',\n",
    "                                                  target_size=(128,128),\n",
    "                                                  class_mode='categorical',\n",
    "                                                  batch_size=100, color_mode='grayscale')\n",
    "\n",
    "test_setGen = ImageDataGenerator(rescale=1./255)\n",
    "test_set = test_setGen.flow_from_directory('C:\\IBMProject\\ProjectDevelopmentPhase\\Sprint2\\Dataset\\TestSet',\n",
    "                                                  target_size=(128,128),\n",
    "                                                  class_mode='categorical',\n",
    "                                                  batch_size=100, color_mode='grayscale')"
   ]
  },
  {
   "cell_type": "code",
   "execution_count": 30,
   "metadata": {},
   "outputs": [],
   "source": [
    "cnn_model = Sequential() # Sequential Model\n",
    "\n",
    "cnn_model.add(Conv2D(128, (3,3), activation='relu', input_shape=(128,128,1))) # Convolution Layer\n",
    "cnn_model.add(MaxPooling2D(pool_size=(2,2))) # Pooling Layer\n",
    "\n",
    "cnn_model.add(Conv2D(128, (3,3), activation='relu')) # Convolution Layer\n",
    "cnn_model.add(MaxPooling2D(pool_size=(2,2))) # Pooling Layer\n",
    "\n",
    "cnn_model.add(Flatten()) # Flatten Layer\n",
    "cnn_model.add(Dense(128, activation='relu')) # Hidden Layer\n",
    "cnn_model.add(Dense(128, activation='relu')) # Hidden Layer\n",
    "cnn_model.add(Dense(9, activation='softmax')) # Hidden Layer"
   ]
  },
  {
   "cell_type": "code",
   "execution_count": 31,
   "metadata": {},
   "outputs": [],
   "source": [
    "cnn_model.compile(loss='categorical_crossentropy', optimizer='adam', metrics=['accuracy'])"
   ]
  },
  {
   "cell_type": "code",
   "execution_count": 32,
   "metadata": {},
   "outputs": [
    {
     "name": "stderr",
     "output_type": "stream",
     "text": [
      "C:\\Users\\Admin\\AppData\\Local\\Temp\\ipykernel_15016\\2477806422.py:1: UserWarning: `Model.fit_generator` is deprecated and will be removed in a future version. Please use `Model.fit`, which supports generators.\n",
      "  cnn_model.fit_generator(train_set,\n"
     ]
    },
    {
     "name": "stdout",
     "output_type": "stream",
     "text": [
      "Epoch 1/3\n",
      "158/158 [==============================] - 1964s 12s/step - loss: 0.2861 - accuracy: 0.9060 - val_loss: 0.2118 - val_accuracy: 0.9644\n",
      "Epoch 2/3\n",
      "158/158 [==============================] - 1434s 9s/step - loss: 0.0269 - accuracy: 0.9912 - val_loss: 0.3211 - val_accuracy: 0.9609\n",
      "Epoch 3/3\n",
      "158/158 [==============================] - 1474s 9s/step - loss: 0.0176 - accuracy: 0.9943 - val_loss: 0.3470 - val_accuracy: 0.9764\n"
     ]
    },
    {
     "data": {
      "text/plain": [
       "<keras.callbacks.History at 0x1f4d1b4f010>"
      ]
     },
     "execution_count": 32,
     "metadata": {},
     "output_type": "execute_result"
    }
   ],
   "source": [
    "cnn_model.fit_generator(train_set, \n",
    "              steps_per_epoch=len(train_set), \n",
    "              epochs=3, \n",
    "              validation_data=test_set, \n",
    "              validation_steps=len(test_set))"
   ]
  },
  {
   "cell_type": "code",
   "execution_count": 33,
   "metadata": {},
   "outputs": [],
   "source": [
    "cnn_model.save('trained_cnn_model.h5')"
   ]
  }
 ],
 "metadata": {
  "kernelspec": {
   "display_name": "Python 3.8.3 ('env': venv)",
   "language": "python",
   "name": "python3"
  },
  "language_info": {
   "codemirror_mode": {
    "name": "ipython",
    "version": 3
   },
   "file_extension": ".py",
   "mimetype": "text/x-python",
   "name": "python",
   "nbconvert_exporter": "python",
   "pygments_lexer": "ipython3",
   "version": "3.8.3"
  },
  "orig_nbformat": 4,
  "vscode": {
   "interpreter": {
    "hash": "3f7a561224eefb3177bd60aef517a1575fda0f229c0579b1dccc948af56213ae"
   }
  }
 },
 "nbformat": 4,
 "nbformat_minor": 2
}
